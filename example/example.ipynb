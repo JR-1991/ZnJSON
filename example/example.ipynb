{
 "cells": [
  {
   "cell_type": "code",
   "execution_count": 1,
   "metadata": {
    "tags": []
   },
   "outputs": [],
   "source": [
    "import znconv\n",
    "import numpy as np\n",
    "import json"
   ]
  },
  {
   "cell_type": "markdown",
   "metadata": {},
   "source": [
    "1. Register the required converter"
   ]
  },
  {
   "cell_type": "code",
   "execution_count": 2,
   "metadata": {},
   "outputs": [],
   "source": [
    "znconv.register(\n",
    "    znconv.converter.NumpyConverter\n",
    ")"
   ]
  },
  {
   "cell_type": "markdown",
   "metadata": {},
   "source": [
    "2. Create some example data"
   ]
  },
  {
   "cell_type": "code",
   "execution_count": 3,
   "metadata": {},
   "outputs": [],
   "source": [
    "example_data = {\"data\": np.arange(10), \"extra\": {\"p\": 3, \"i\": .14}}"
   ]
  },
  {
   "cell_type": "markdown",
   "metadata": {},
   "source": [
    "3. Dump data to with json"
   ]
  },
  {
   "cell_type": "code",
   "execution_count": 4,
   "metadata": {},
   "outputs": [
    {
     "name": "stdout",
     "output_type": "stream",
     "text": [
      "{\"data\": {\"_type\": \"np.ndarray\", \"value\": \"\\u0093NUMPY\\u0001\\u0000v\\u0000{'descr': '<i4', 'fortran_order': False, 'shape': (10,), }                                                           \\n\\u0000\\u0000\\u0000\\u0000\\u0001\\u0000\\u0000\\u0000\\u0002\\u0000\\u0000\\u0000\\u0003\\u0000\\u0000\\u0000\\u0004\\u0000\\u0000\\u0000\\u0005\\u0000\\u0000\\u0000\\u0006\\u0000\\u0000\\u0000\\u0007\\u0000\\u0000\\u0000\\b\\u0000\\u0000\\u0000\\t\\u0000\\u0000\\u0000\"}, \"extra\": {\"p\": 3, \"i\": 0.14}}\n"
     ]
    }
   ],
   "source": [
    "data_dump = json.dumps(example_data, cls=znconv.ZnEncoder)\n",
    "print(data_dump)"
   ]
  },
  {
   "cell_type": "markdown",
   "metadata": {},
   "source": [
    "4. Load Dump"
   ]
  },
  {
   "cell_type": "code",
   "execution_count": 5,
   "metadata": {},
   "outputs": [
    {
     "name": "stdout",
     "output_type": "stream",
     "text": [
      "{'data': array([0, 1, 2, 3, 4, 5, 6, 7, 8, 9]), 'extra': {'p': 3, 'i': 0.14}}\n"
     ]
    }
   ],
   "source": [
    "data_loaded = json.loads(data_dump, cls=znconv.ZnDecoder)\n",
    "print(data_loaded)"
   ]
  }
 ],
 "metadata": {
  "kernelspec": {
   "display_name": "Python 3 (ipykernel)",
   "language": "python",
   "name": "python3"
  },
  "language_info": {
   "codemirror_mode": {
    "name": "ipython",
    "version": 3
   },
   "file_extension": ".py",
   "mimetype": "text/x-python",
   "name": "python",
   "nbconvert_exporter": "python",
   "pygments_lexer": "ipython3",
   "version": "3.9.7"
  }
 },
 "nbformat": 4,
 "nbformat_minor": 4
}